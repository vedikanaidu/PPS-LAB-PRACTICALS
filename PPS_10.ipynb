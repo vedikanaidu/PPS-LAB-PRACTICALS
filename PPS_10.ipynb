{
  "nbformat": 4,
  "nbformat_minor": 0,
  "metadata": {
    "colab": {
      "provenance": []
    },
    "kernelspec": {
      "name": "python3",
      "display_name": "Python 3"
    },
    "language_info": {
      "name": "python"
    }
  },
  "cells": [
    {
      "cell_type": "code",
      "execution_count": null,
      "metadata": {
        "id": "0yAA7xMpmKjr"
      },
      "outputs": [],
      "source": [
        "marks = [float(input(f\"subject {i + 1}: \")) for i in range(5)]\n",
        "\n",
        "\n",
        "average = round(sum(marks) / len(marks), 2)\n",
        "\n",
        "if 90 <= average <= 100:\n",
        "\tgrade = \"A\"\n",
        "elif 80 <= average < 90:\n",
        "\tgrade = \"B\"\n",
        "elif 70 <= average < 80:\n",
        "\tgrade = \"C\"\n",
        "elif 60 <= average < 70:\n",
        "\tgrade = \"D\"\n",
        "else:\n",
        "\tgrade = \"F\"\n",
        "\n",
        "print(f\"Average Marks: {average:.2f}\")\n",
        "print(f\"Grade: {grade}\")"
      ]
    }
  ]
}