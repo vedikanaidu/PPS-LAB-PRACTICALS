{
  "nbformat": 4,
  "nbformat_minor": 0,
  "metadata": {
    "colab": {
      "provenance": []
    },
    "kernelspec": {
      "name": "python3",
      "display_name": "Python 3"
    },
    "language_info": {
      "name": "python"
    }
  },
  "cells": [
    {
      "cell_type": "code",
      "execution_count": null,
      "metadata": {
        "id": "UTCQk8hxlE-3"
      },
      "outputs": [],
      "source": [
        "def sum_of_digits(n):\n",
        "\treturn sum(int(digit)for digit in str(n))\n",
        "\n",
        "num = int(input(\"num: \"))\n",
        "\n",
        "print(\"sum:\", sum_of_digits(num))"
      ]
    }
  ]
}