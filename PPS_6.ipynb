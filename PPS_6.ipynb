{
  "nbformat": 4,
  "nbformat_minor": 0,
  "metadata": {
    "colab": {
      "provenance": []
    },
    "kernelspec": {
      "name": "python3",
      "display_name": "Python 3"
    },
    "language_info": {
      "name": "python"
    }
  },
  "cells": [
    {
      "cell_type": "code",
      "execution_count": null,
      "metadata": {
        "id": "--Fi5FL2lb6x"
      },
      "outputs": [],
      "source": [
        "first_number = float(input(\"Enter the first number: \"))\n",
        "second_number = float(input(\"Enter the second number: \"))\n",
        "third_number = float(input(\"Enter the third number: \"))\n",
        "\n",
        "largest_number = max(first_number, second_number, third_number)\n",
        "\n",
        "print(f\"Largest number: {largest_number}\")"
      ]
    }
  ]
}