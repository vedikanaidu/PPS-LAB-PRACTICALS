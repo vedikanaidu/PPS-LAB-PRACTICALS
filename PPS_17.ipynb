{
  "nbformat": 4,
  "nbformat_minor": 0,
  "metadata": {
    "colab": {
      "provenance": []
    },
    "kernelspec": {
      "name": "python3",
      "display_name": "Python 3"
    },
    "language_info": {
      "name": "python"
    }
  },
  "cells": [
    {
      "cell_type": "code",
      "execution_count": null,
      "metadata": {
        "id": "Xu8rgQOKl77s"
      },
      "outputs": [],
      "source": [
        "def vowel_count(str):\n",
        "\tcount = 0\n",
        "\tvowel = set(\"aeiouAEIOU\")\n",
        "\n",
        "\t# Write your code here to count the vowels\n",
        "\tfor char in str:\n",
        "\t\tif char in vowel:\n",
        "\t\t\tcount += 1\n",
        "\n",
        "\tprint(count)\n",
        "str = input()\n",
        "vowel_count(str)"
      ]
    }
  ]
}