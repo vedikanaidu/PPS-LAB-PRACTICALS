{
  "nbformat": 4,
  "nbformat_minor": 0,
  "metadata": {
    "colab": {
      "provenance": []
    },
    "kernelspec": {
      "name": "python3",
      "display_name": "Python 3"
    },
    "language_info": {
      "name": "python"
    }
  },
  "cells": [
    {
      "cell_type": "code",
      "execution_count": 1,
      "metadata": {
        "colab": {
          "base_uri": "https://localhost:8080/"
        },
        "id": "2hmIvoUTcj4x",
        "outputId": "41ef4280-d535-4cdc-e5c9-1c5f385337b7"
      },
      "outputs": [
        {
          "output_type": "stream",
          "name": "stdout",
          "text": [
            "Enter the radius : 5\n",
            "Area of circle = 78.500000\n"
          ]
        }
      ],
      "source": [
        "radius = float(input(\"Enter the radius : \"))\n",
        "if 0.0 <= radius <= 100.0:\n",
        "\tpi = 3.14\n",
        "\tarea = pi * radius * radius\n",
        "\tprint(f\"Area of circle = {area:.6f}\")\n",
        "\n",
        "else:\n",
        "\tprint(\"Enter a positive value upto 100\")"
      ]
    }
  ]
}