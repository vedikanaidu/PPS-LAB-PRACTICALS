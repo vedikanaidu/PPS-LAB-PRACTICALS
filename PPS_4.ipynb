{
  "nbformat": 4,
  "nbformat_minor": 0,
  "metadata": {
    "colab": {
      "provenance": []
    },
    "kernelspec": {
      "name": "python3",
      "display_name": "Python 3"
    },
    "language_info": {
      "name": "python"
    }
  },
  "cells": [
    {
      "cell_type": "code",
      "execution_count": null,
      "metadata": {
        "id": "WIL_1p0ykiXq"
      },
      "outputs": [],
      "source": [
        "base = float(input(\"Base: \"))\n",
        "height = float(input(\"Height: \"))\n",
        "\n",
        "area = 0.5 * base * height\n",
        "\n",
        "print(f\"Area: {area:.2f}\")"
      ]
    }
  ]
}