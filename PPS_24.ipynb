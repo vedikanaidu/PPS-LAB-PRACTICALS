{
  "nbformat": 4,
  "nbformat_minor": 0,
  "metadata": {
    "colab": {
      "provenance": []
    },
    "kernelspec": {
      "name": "python3",
      "display_name": "Python 3"
    },
    "language_info": {
      "name": "python"
    }
  },
  "cells": [
    {
      "cell_type": "code",
      "execution_count": null,
      "metadata": {
        "id": "2487HgLykeP-"
      },
      "outputs": [],
      "source": [
        "import fibonacci_module\n",
        "\n",
        "n = int(input(\"Enter the max value: \"))\n",
        "\n",
        "if n > 0:\n",
        "\tfib_series = fibonacci_module.generate_fibonacci_sequence(n)\n",
        "\tprint(f\"Fibonacci series upto {n} :\")\n",
        "\tprint(\" \".join(map(str, fib_series)), end = \" \\n\")\n",
        "else:\n",
        "\tprint(\"Please enter a positive integer\")"
      ]
    }
  ]
}