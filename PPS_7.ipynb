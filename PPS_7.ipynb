{
  "nbformat": 4,
  "nbformat_minor": 0,
  "metadata": {
    "colab": {
      "provenance": []
    },
    "kernelspec": {
      "name": "python3",
      "display_name": "Python 3"
    },
    "language_info": {
      "name": "python"
    }
  },
  "cells": [
    {
      "cell_type": "code",
      "execution_count": null,
      "metadata": {
        "id": "0ruCn7XDlqfE"
      },
      "outputs": [],
      "source": [
        "celsius = float(input(\"celsius: \"))\n",
        "fahrenheit = 1.8 * celsius + 32.0\n",
        "print(f\"fahrenheit: {fahrenheit}\")"
      ]
    }
  ]
}