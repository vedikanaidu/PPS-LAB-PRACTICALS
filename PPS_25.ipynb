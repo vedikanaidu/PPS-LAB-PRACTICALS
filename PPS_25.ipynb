{
  "nbformat": 4,
  "nbformat_minor": 0,
  "metadata": {
    "colab": {
      "provenance": []
    },
    "kernelspec": {
      "name": "python3",
      "display_name": "Python 3"
    },
    "language_info": {
      "name": "python"
    }
  },
  "cells": [
    {
      "cell_type": "code",
      "execution_count": null,
      "metadata": {
        "id": "N7rCVevdkJyJ"
      },
      "outputs": [],
      "source": [
        "class Complex ():\n",
        "\tdef __init__(self):\n",
        "\t\tself.real = 0\n",
        "\t\tself.imaginary = 0\n",
        "\tdef initComplex(self):\n",
        "\t\tself.real = int(input(\"Real Part: \"))\n",
        "\t\tself.imaginary = int(input(\"Imaginary Part: \"))\n",
        "\tdef display(self):\n",
        "\t\tif self.imaginary >= 0:\n",
        "\t\t\tprint(f\"{self.real}+{self.imaginary}i\")\n",
        "\t\telse:\n",
        "\t\t\tprint(f\"{self.real}{self.imaginary}i\")\n",
        "\tdef sum(self,c1,c2):\n",
        "\t\tself.real = c1.real+c2.real\n",
        "\t\tself.imaginary = c1.imaginary+c2.imaginary\n",
        "c1 = Complex()\n",
        "c2 = Complex()\n",
        "c3 = Complex()\n",
        "print(\"complex number 1\")\n",
        "c1.initComplex()\n",
        "c1.display()\n",
        "print(\"complex number 2\")\n",
        "c2.initComplex()\n",
        "c2.display()\n",
        "print(\"Sum:\", end=\" \")\n",
        "c3.sum(c1,c2)\n",
        "c3.display()\n"
      ]
    }
  ]
}