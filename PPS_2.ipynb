{
  "nbformat": 4,
  "nbformat_minor": 0,
  "metadata": {
    "colab": {
      "provenance": []
    },
    "kernelspec": {
      "name": "python3",
      "display_name": "Python 3"
    },
    "language_info": {
      "name": "python"
    }
  },
  "cells": [
    {
      "cell_type": "code",
      "execution_count": null,
      "metadata": {
        "id": "vrehfyCajvt1"
      },
      "outputs": [],
      "source": [
        "L=int(input(\"L:\"))\n",
        "B=int(input(\"B:\"))\n",
        "\n",
        "area = L * B\n",
        "\n",
        "print(area)"
      ]
    }
  ]
}