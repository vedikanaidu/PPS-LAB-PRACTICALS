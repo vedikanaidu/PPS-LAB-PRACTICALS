{
  "nbformat": 4,
  "nbformat_minor": 0,
  "metadata": {
    "colab": {
      "provenance": []
    },
    "kernelspec": {
      "name": "python3",
      "display_name": "Python 3"
    },
    "language_info": {
      "name": "python"
    }
  },
  "cells": [
    {
      "cell_type": "code",
      "execution_count": null,
      "metadata": {
        "id": "x5IgJguKl3D4"
      },
      "outputs": [],
      "source": [
        " = list(map(int,input(\"Set A: \").split()))\n",
        "A = set(a)\n",
        "b = list(map(int,input(\"Set B: \").split()))\n",
        "B = set(b)\n",
        "\n",
        "union_set = A | B\n",
        "intersection_set = A & B\n",
        "difference_set = A - B\n",
        "\n",
        "print(f\"Union:  {union_set}\")\n",
        "print(f\"Intersection:  {intersection_set}\")\n",
        "print(f\"Difference:  {difference_set}\")"
      ]
    }
  ]
}