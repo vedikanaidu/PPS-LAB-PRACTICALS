{
  "nbformat": 4,
  "nbformat_minor": 0,
  "metadata": {
    "colab": {
      "provenance": []
    },
    "kernelspec": {
      "name": "python3",
      "display_name": "Python 3"
    },
    "language_info": {
      "name": "python"
    }
  },
  "cells": [
    {
      "cell_type": "code",
      "execution_count": null,
      "metadata": {
        "id": "JV8U0Jzdlf3B"
      },
      "outputs": [],
      "source": [
        "import string\n",
        "\n",
        "def remove_punctuation(s):\n",
        "\treturn ' '.join(''.join(char for char in s if char not in string.punctuation).split())\n",
        "\n",
        "s = input()\n",
        "\n",
        "print(remove_punctuation(s))"
      ]
    }
  ]
}