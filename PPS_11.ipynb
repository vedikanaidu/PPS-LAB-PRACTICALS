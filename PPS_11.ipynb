{
  "nbformat": 4,
  "nbformat_minor": 0,
  "metadata": {
    "colab": {
      "provenance": []
    },
    "kernelspec": {
      "name": "python3",
      "display_name": "Python 3"
    },
    "language_info": {
      "name": "python"
    }
  },
  "cells": [
    {
      "cell_type": "code",
      "execution_count": null,
      "metadata": {
        "id": "TL1CQ-anmebx"
      },
      "outputs": [],
      "source": [
        "from datetime import date, timedelta\n",
        "def is_valid_date(year,month,day):\n",
        "\ttry:\n",
        "\t\tvalid_date=date(year,month,day)\n",
        "\t\treturn True\n",
        "\texcept ValueError:\n",
        "\t\treturn False\n",
        "def increment_date(year,month,day):\n",
        "\tgiven_date = date(year,month,day)\n",
        "\tnext_day=given_date+timedelta(days=1)\n",
        "\treturn next_day\n",
        "try:\n",
        "\tyear=int(input(\"year: \"))\n",
        "\tmonth=int(input(\"month: \"))\n",
        " \tday=int(input(\"day: \"))\n",
        "\n",
        "\tif is_valid_date(year,month,day):\n",
        "\t\tprint(\"valid\")\n",
        "\t\tnext_date=increment_date(year,month,day)\n",
        "\t\tprint(f\"incremented date: {next_date}\")\n",
        "\telse:\n",
        "\t\tprint(\"invalid\")\n",
        "\n",
        "except ValueError:\n",
        "\tprint(\"Invalid input! Please enter valid integers for year,month,and day.\")"
      ]
    }
  ]
}