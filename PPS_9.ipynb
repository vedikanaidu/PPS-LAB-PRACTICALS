{
  "nbformat": 4,
  "nbformat_minor": 0,
  "metadata": {
    "colab": {
      "provenance": []
    },
    "kernelspec": {
      "name": "python3",
      "display_name": "Python 3"
    },
    "language_info": {
      "name": "python"
    }
  },
  "cells": [
    {
      "cell_type": "code",
      "execution_count": null,
      "metadata": {
        "id": "PzHJFEAQmA2O"
      },
      "outputs": [],
      "source": [
        "year = int(input(\"Enter a year: \"))\n",
        "if(year % 4 == 0 and year % 100 != 0) or (year % 400 == 0):\n",
        "\tprint(f\"{year} is a leap year\")\n",
        "else:\n",
        "\tprint(f\"{year} is not a leap year\")"
      ]
    }
  ]
}