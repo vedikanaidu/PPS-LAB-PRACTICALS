{
  "nbformat": 4,
  "nbformat_minor": 0,
  "metadata": {
    "colab": {
      "provenance": []
    },
    "kernelspec": {
      "name": "python3",
      "display_name": "Python 3"
    },
    "language_info": {
      "name": "python"
    }
  },
  "cells": [
    {
      "cell_type": "code",
      "execution_count": null,
      "metadata": {
        "id": "dpjlb3xGmq96"
      },
      "outputs": [],
      "source": [
        "#Type Content here...\n",
        "def print_pattern(n):\n",
        "\tfor i in range(n, 0, -1):\n",
        "\t\tprint(\"* \"*i)\n",
        "\n",
        "number = int(input(\"Enter a number : \"))\n",
        "\n",
        "print_pattern(number)"
      ]
    }
  ]
}