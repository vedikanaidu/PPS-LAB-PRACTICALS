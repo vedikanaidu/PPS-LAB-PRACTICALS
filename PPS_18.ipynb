{
  "nbformat": 4,
  "nbformat_minor": 0,
  "metadata": {
    "colab": {
      "provenance": []
    },
    "kernelspec": {
      "name": "python3",
      "display_name": "Python 3"
    },
    "language_info": {
      "name": "python"
    }
  },
  "cells": [
    {
      "cell_type": "code",
      "execution_count": null,
      "metadata": {
        "id": "oWh-jQZGluZX"
      },
      "outputs": [],
      "source": [
        "# Type Content here...\n",
        "def is_palindrome(s):\n",
        "\treturn s == s[::-1]\n",
        "\n",
        "s = input()\n",
        "\n",
        "if is_palindrome(s):\n",
        "\tprint(\"palindrome\")\n",
        "else:\n",
        "\tprint(\"not a palindrome\")"
      ]
    }
  ]
}