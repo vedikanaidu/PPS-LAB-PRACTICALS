{
  "nbformat": 4,
  "nbformat_minor": 0,
  "metadata": {
    "colab": {
      "provenance": []
    },
    "kernelspec": {
      "name": "python3",
      "display_name": "Python 3"
    },
    "language_info": {
      "name": "python"
    }
  },
  "cells": [
    {
      "cell_type": "code",
      "execution_count": null,
      "metadata": {
        "id": "67V5SXvjmW18"
      },
      "outputs": [],
      "source": [
        "def matmult(A, B):\n",
        "\trows_A = len(A)\n",
        "\tcols_A = len(A[0])\n",
        "\n",
        "\trows_B = len(B)\n",
        "\tcols_B = len(B[0])\n",
        "\n",
        "\tif cols_A != rows_B:\n",
        "\t\tprint(\"Cannot multiply the two matrices. Incorrect dimensions.\")\n",
        "\t\treturn None\n",
        "\n",
        "\tresult = []\n",
        "\tfor i in range(rows_A):\n",
        "\t\trow = []\n",
        "\t\tfor i in range (cols_B):\n",
        "\t\t\trow.append(0)\n",
        "\t\tresult.append(row)\n",
        "\n",
        "\tfor i in range(rows_A):\n",
        "\t\tfor j in range(cols_B):\n",
        "\t\t\tfor k in range (cols_A):\n",
        "\t\t\t\tresult[i][j] += A[i][k] * B[k][j]\n",
        "\treturn result\n",
        "\n",
        "def readmatrix(name = ''):\n",
        "\tprint(f\"Enter values for {name}\")\n",
        "\trows = int(input(\"Number of rows, m = \"))\n",
        "\tcols = int(input(\"Number of columns, n = \"))\n",
        "\n",
        "\tmatrix = []\n",
        "\tfor i in range(rows):\n",
        "\t\trow = []\n",
        "\t\tfor j in range(cols):\n",
        "\t\t\tprint(f\"Entry in row: {i+1} column: {j+1}\")\n",
        "\t\t\tvalue = int(input())\n",
        "\t\t\trow.append(value)\n",
        "\t\tmatrix.append(row)\n",
        "\n",
        "\treturn matrix\n",
        "\n",
        "matrixa = readmatrix('matrix - A')\n",
        "matrixb = readmatrix('matrix - B')\n",
        "print(\"Matrix - A =\", matrixa)\n",
        "print(\"Matrix - B =\", matrixb)\n",
        "print(\"Matrix - A * Matrix- B =\", matmult(matrixa, matrixb))\n",
        "\n"
      ]
    }
  ]
}