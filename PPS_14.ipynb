{
  "nbformat": 4,
  "nbformat_minor": 0,
  "metadata": {
    "colab": {
      "provenance": []
    },
    "kernelspec": {
      "name": "python3",
      "display_name": "Python 3"
    },
    "language_info": {
      "name": "python"
    }
  },
  "cells": [
    {
      "cell_type": "code",
      "execution_count": null,
      "metadata": {
        "id": "1AzK7Gm3mgVg"
      },
      "outputs": [],
      "source": [
        "def is_valid_digit(d):\n",
        "\treturn 0 <= d <= 9\n",
        "digit1 = int(input(\"digit1 (0-9): \"))\n",
        "digit2 = int(input(\"digit2 (0-9): \"))\n",
        "digit3 = int(input(\"digit3 (0-9): \"))\n",
        "\n",
        "if all(is_valid_digit(d) for d in [digit1, digit2,digit3]):\n",
        "\tdigits = [digit1, digit2, digit3]\n",
        "\tfor i in range(3):\n",
        "\t\tfor j in range(3):\n",
        "\t\t\tfor k in range(3):\n",
        "\t\t\t\tif i != j and j != k and i != k:\n",
        "\t\t\t\t\tprint(f\"{digits[i]}{digits[j]}{digits[k]}\")\n",
        "\n",
        "else:\n",
        "\tprint(\"Invalid\")"
      ]
    }
  ]
}