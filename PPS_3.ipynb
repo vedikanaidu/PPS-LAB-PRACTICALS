{
  "nbformat": 4,
  "nbformat_minor": 0,
  "metadata": {
    "colab": {
      "provenance": []
    },
    "kernelspec": {
      "name": "python3",
      "display_name": "Python 3"
    },
    "language_info": {
      "name": "python"
    }
  },
  "cells": [
    {
      "cell_type": "code",
      "execution_count": null,
      "metadata": {
        "id": "mq7Cf5JDkK4x"
      },
      "outputs": [],
      "source": [
        "S=int(input(\"S:\"))\n",
        "area = S * S\n",
        "print(area)"
      ]
    }
  ]
}