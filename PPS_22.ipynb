{
  "nbformat": 4,
  "nbformat_minor": 0,
  "metadata": {
    "colab": {
      "provenance": []
    },
    "kernelspec": {
      "name": "python3",
      "display_name": "Python 3"
    },
    "language_info": {
      "name": "python"
    }
  },
  "cells": [
    {
      "cell_type": "code",
      "execution_count": null,
      "metadata": {
        "id": "BuH66DdDk4wE"
      },
      "outputs": [],
      "source": [
        "def Sumof(n):\n",
        "\tif n == 0:\n",
        "\t\treturn 0\n",
        "\telse:\n",
        "\t\treturn(n % 10) + Sumof(n // 10)\n",
        "n = int(input())\n",
        "print(Sumof(n))"
      ]
    }
  ]
}