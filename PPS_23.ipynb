{
  "nbformat": 4,
  "nbformat_minor": 0,
  "metadata": {
    "colab": {
      "provenance": []
    },
    "kernelspec": {
      "name": "python3",
      "display_name": "Python 3"
    },
    "language_info": {
      "name": "python"
    }
  },
  "cells": [
    {
      "cell_type": "code",
      "execution_count": null,
      "metadata": {
        "id": "L08OkXJvkqPJ"
      },
      "outputs": [],
      "source": [
        "# write your code...\n",
        "phone_book = {}\n",
        "while True:\n",
        "\tprint(\"1. Add Contact\")\n",
        "\tprint(\"2. Remove Contact\")\n",
        "\tprint(\"3. Display\")\n",
        "\tprint(\"4. Quit\")\n",
        "\tchoice = input(\"Enter choice (1-4): \")\n",
        "\tif choice == '1':\n",
        "\t\tname = input(\"Name: \")\n",
        "\t\tnumber = input(\"Phone number: \")\n",
        "\t\tphone_book[name] = number\n",
        "\n",
        "\telif choice == '2':\n",
        "\t\tname = input(\"Name: \")\n",
        "\t\tif name in phone_book:\n",
        "\t\t\tdel phone_book[name]\n",
        "\t\telse:\n",
        "\t\t\tprint(\"Not found\")\n",
        "\n",
        "\telif choice == '3':\n",
        "\t\tif phone_book:\n",
        "\t\t\tprint(phone_book)\n",
        "\t\telse:\n",
        "\t\t\tprint(\"{}\")\n",
        "\n",
        "\telif choice == '4':\n",
        "\t\tbreak\n",
        "\n",
        "\telse:\n",
        "\t\tprint(\"Invalid\")\n"
      ]
    }
  ]
}