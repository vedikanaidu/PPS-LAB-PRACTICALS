{
  "nbformat": 4,
  "nbformat_minor": 0,
  "metadata": {
    "colab": {
      "provenance": []
    },
    "kernelspec": {
      "name": "python3",
      "display_name": "Python 3"
    },
    "language_info": {
      "name": "python"
    }
  },
  "cells": [
    {
      "cell_type": "code",
      "execution_count": null,
      "metadata": {
        "id": "nMlHER2ef9Rz"
      },
      "outputs": [],
      "source": [
        "class Car:\n",
        "\t# write your code here...\n",
        "\tdef __init__(self, brand, price, model, color):\n",
        "\t\tself.brand = brand\n",
        "\t\tself.price = price\n",
        "\t\tself.model = model\n",
        "\t\tself.color = color\n",
        "\tdef display_details(self):\n",
        "\t\tprint(f\"{self.brand}\")\n",
        "\t\tprint(f\"{self.price}\")\n",
        "\t\tprint(f\"{self.model}\")\n",
        "\t\tprint(f\"{self.color}\")\n",
        "\n",
        "def get_car_details():\n",
        "\tbrand = input(\"brand: \")\n",
        "\tprice = float(input(\"price: \"))\n",
        "\tmodel = input(\"model: \")\n",
        "\tcolor = input(\"color: \")\n",
        "\treturn brand, price, model, color\n",
        "\n",
        "print(\"Details for Car 1:\")\n",
        "car1_brand, car1_price, car1_model, car1_color = get_car_details()\n",
        "\n",
        "# create an object car1\n",
        "car1 = Car(car1_brand, car1_price, car1_model, car1_color)\n",
        "\n",
        "print(\"Details for Car 2:\")\n",
        "car2_brand, car2_price, car2_model, car2_color = get_car_details()\n",
        "\n",
        "# Create the second car object\n",
        "car2 = Car(car2_brand, car2_price, car2_model, car2_color)\n",
        "\n",
        "print(\"Car 1 Details:\")\n",
        "# Display details of the car1\n",
        "car1.display_details()\n",
        "\n",
        "print(\"Car 2 Details:\")\n",
        "# Display details of the car1\n",
        "car2.display_details()\n",
        "\n"
      ]
    }
  ]
}