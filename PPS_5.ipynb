{
  "nbformat": 4,
  "nbformat_minor": 0,
  "metadata": {
    "colab": {
      "provenance": []
    },
    "kernelspec": {
      "name": "python3",
      "display_name": "Python 3"
    },
    "language_info": {
      "name": "python"
    }
  },
  "cells": [
    {
      "cell_type": "code",
      "execution_count": null,
      "metadata": {
        "id": "RODNjmZAlApV"
      },
      "outputs": [],
      "source": [
        "import cmath\n",
        "\n",
        "a = float(input(\"a: \"))\n",
        "b = float(input(\"b: \"))\n",
        "c = float(input(\"c: \"))\n",
        "\n",
        "discriminant = b**2 - 4*a*c\n",
        "\n",
        "if discriminant > 0:\n",
        "\troot1 = (-b + cmath.sqrt(discriminant)) / (2*a)\n",
        "\n",
        "\troot2 = (-b - cmath.sqrt(discriminant)) / (2*a)\n",
        "\tprint(f\"The roots are: {root1.real:.2f} and {root2.real:.2f}\")\n",
        "elif discriminant == 0:\n",
        "\troot = -b / (2*a)\n",
        "\tprint(f\"The root is: {root:.2f}\")\n",
        "else:\n",
        "\troot1 = (-b + cmath.sqrt(discriminant)) / (2*a)\n",
        "\troot2 = (-b - cmath.sqrt(discriminant)) / (2*a)\n",
        "\n",
        "\treal_part1 = f\"{root1.real:.2f}\"\n",
        "\timag_part1 = f\"{root1.imag:.2f}\"\n",
        "\treal_part2 = f\"{root2.real:.2f}\"\n",
        "  imag_part2 = f\"{root2.imag:.2f}\"\n",
        "\n",
        "\tif float(real_part1) == 0.0:\n",
        "\t\treal_part1 = \"-0.00\"\n",
        "\n",
        "\tprint(f\"The roots are: {real_part1}+{imag_part1}j and {real_part2}{imag_part2}j\")"
      ]
    }
  ]
}