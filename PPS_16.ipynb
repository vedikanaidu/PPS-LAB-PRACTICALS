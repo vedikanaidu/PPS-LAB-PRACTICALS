{
  "nbformat": 4,
  "nbformat_minor": 0,
  "metadata": {
    "colab": {
      "provenance": []
    },
    "kernelspec": {
      "name": "python3",
      "display_name": "Python 3"
    },
    "language_info": {
      "name": "python"
    }
  },
  "cells": [
    {
      "cell_type": "code",
      "execution_count": null,
      "metadata": {
        "id": "anyzGEKGmHS5"
      },
      "outputs": [],
      "source": [
        "def is_prime(n):\n",
        "\tif n < 2:\n",
        "\t\treturn False\n",
        "\tfor i in range(2, int(n ** 0.5) + 1):\n",
        "\t\tif n % i == 0:\n",
        "\t\t\treturn False\n",
        "\treturn True\n",
        "\n",
        "upper_limit = int(input(\"Enter upper limit: \"))\n",
        "for num in range(2, upper_limit):\n",
        "\tif is_prime(num):\n",
        "\t\tprint(num)"
      ]
    }
  ]
}