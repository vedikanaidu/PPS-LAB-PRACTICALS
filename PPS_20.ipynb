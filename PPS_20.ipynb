{
  "nbformat": 4,
  "nbformat_minor": 0,
  "metadata": {
    "colab": {
      "provenance": []
    },
    "kernelspec": {
      "name": "python3",
      "display_name": "Python 3"
    },
    "language_info": {
      "name": "python"
    }
  },
  "cells": [
    {
      "cell_type": "code",
      "execution_count": null,
      "metadata": {
        "id": "8eU59b6QlMv6"
      },
      "outputs": [],
      "source": [
        "def reverse_string(s):\n",
        "\treturn s[::-1]\n",
        "\n",
        "s = input()\n",
        "\n",
        "print(reverse_string(s))"
      ]
    }
  ]
}