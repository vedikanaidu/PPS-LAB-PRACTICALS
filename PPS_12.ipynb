{
  "nbformat": 4,
  "nbformat_minor": 0,
  "metadata": {
    "colab": {
      "provenance": []
    },
    "kernelspec": {
      "name": "python3",
      "display_name": "Python 3"
    },
    "language_info": {
      "name": "python"
    }
  },
  "cells": [
    {
      "cell_type": "code",
      "execution_count": null,
      "metadata": {
        "id": "Z-Z3RkFLmxX7"
      },
      "outputs": [],
      "source": [
        "def factorial(n):\n",
        "\tif n == 0 or n == 1:\n",
        "\t\treturn 1\n",
        "\tresult = 1\n",
        "\tfor i in range(2, n+1):\n",
        "\t\tresult *= i\n",
        "\treturn result\n",
        "\n",
        "num = int(input(\"Enter a number : \"))\n",
        "if num < 0:\n",
        "\tprint(\"Enter a positive number\")\n",
        "else:\n",
        "\tprint(f\"Factorial of given number is : {factorial(num)}\")"
      ]
    }
  ]
}